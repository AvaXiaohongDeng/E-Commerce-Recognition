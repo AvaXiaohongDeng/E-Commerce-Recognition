{
 "cells": [
  {
   "cell_type": "code",
   "execution_count": 17,
   "metadata": {},
   "outputs": [
    {
     "name": "stdout",
     "output_type": "stream",
     "text": [
      "{'predicted_product': 'apple'}\n"
     ]
    }
   ],
   "source": [
    "import requests\n",
    "import json\n",
    "\n",
    "# Set the URL for the predict endpoint\n",
    "url = 'http://127.0.0.1:5000/predict'\n",
    "\n",
    "# Open and read the image file\n",
    "with open(\"C:/Users/rashe/ImageRecognitionProject/Groceries-Images-Recognition/ML/dataset/train/apple/Image_1.jpg\", 'rb') as file:\n",
    "    image_data = {'image': file}\n",
    "    response = requests.post(url, files=image_data)\n",
    "\n",
    "# Print the response\n",
    "print(response.json())\n"
   ]
  },
  {
   "cell_type": "code",
   "execution_count": 27,
   "metadata": {},
   "outputs": [
    {
     "name": "stdout",
     "output_type": "stream",
     "text": [
      "{\n",
      "    \"predicted_product\": \"apple\"\n",
      "}\n"
     ]
    }
   ],
   "source": [
    "import requests\n",
    "import json\n",
    "\n",
    "# Set the URL for the predict endpoint\n",
    "url = 'http://127.0.0.1:5000/predict'\n",
    "\n",
    "# Open and read the image file\n",
    "with open(\"C:/Users/rashe/ImageRecognitionProject/Groceries-Images-Recognition/ML/dataset/train/apple/Image_1.jpg\", 'rb') as file:\n",
    "    image_data = {'image': file}\n",
    "    response = requests.post(url, files=image_data)\n",
    "\n",
    "# Print the response in a formatted JSON\n",
    "print(json.dumps(response.json(), indent=4))\n"
   ]
  },
  {
   "cell_type": "code",
   "execution_count": 29,
   "metadata": {},
   "outputs": [
    {
     "name": "stdout",
     "output_type": "stream",
     "text": [
      "{\n",
      "    \"predicted_product\": \"beetroot\"\n",
      "}\n"
     ]
    }
   ],
   "source": [
    "import requests\n",
    "import json\n",
    "\n",
    "# Set the URL for the predict endpoint\n",
    "url = 'http://127.0.0.1:5000/predict'\n",
    "\n",
    "# Open and read the image file\n",
    "with open(\"C:/Users/rashe/ImageRecognitionProject/Groceries-Images-Recognition/ML/dataset/train/beetroot/Image_2.jpg\", 'rb') as file:\n",
    "    image_data = {'image': file}\n",
    "    response = requests.post(url, files=image_data)\n",
    "\n",
    "# Print the response in a formatted JSON\n",
    "print(json.dumps(response.json(), indent=4))"
   ]
  },
  {
   "cell_type": "code",
   "execution_count": null,
   "metadata": {},
   "outputs": [],
   "source": []
  }
 ],
 "metadata": {
  "kernelspec": {
   "display_name": "Python 3",
   "language": "python",
   "name": "python3"
  },
  "language_info": {
   "codemirror_mode": {
    "name": "ipython",
    "version": 3
   },
   "file_extension": ".py",
   "mimetype": "text/x-python",
   "name": "python",
   "nbconvert_exporter": "python",
   "pygments_lexer": "ipython3",
   "version": "3.10.4"
  }
 },
 "nbformat": 4,
 "nbformat_minor": 2
}
