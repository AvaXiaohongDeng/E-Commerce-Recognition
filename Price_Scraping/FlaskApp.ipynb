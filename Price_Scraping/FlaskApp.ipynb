{
 "cells": [
  {
   "cell_type": "code",
   "execution_count": 13,
   "metadata": {},
   "outputs": [],
   "source": [
    "from flask import Flask, request, jsonify\n",
    "import os\n",
    "import serpapi\n",
    "import pandas as pd\n",
    "import tensorflow as tf\n",
    "from keras.preprocessing import image\n",
    "import numpy as np\n",
    "\n",
    "import logging\n",
    "from PIL import Image\n",
    "import io"
   ]
  },
  {
   "cell_type": "code",
   "execution_count": 2,
   "metadata": {},
   "outputs": [
    {
     "ename": "NameError",
     "evalue": "name 'Flask' is not defined",
     "output_type": "error",
     "traceback": [
      "\u001b[1;31m---------------------------------------------------------------------------\u001b[0m",
      "\u001b[1;31mNameError\u001b[0m                                 Traceback (most recent call last)",
      "Cell \u001b[1;32mIn[2], line 1\u001b[0m\n\u001b[1;32m----> 1\u001b[0m app \u001b[38;5;241m=\u001b[39m \u001b[43mFlask\u001b[49m(\u001b[38;5;18m__name__\u001b[39m)\n\u001b[0;32m      3\u001b[0m logging\u001b[38;5;241m.\u001b[39mbasicConfig(level\u001b[38;5;241m=\u001b[39mlogging\u001b[38;5;241m.\u001b[39mINFO)\n\u001b[0;32m      4\u001b[0m \u001b[38;5;66;03m# Load dataset\u001b[39;00m\n",
      "\u001b[1;31mNameError\u001b[0m: name 'Flask' is not defined"
     ]
    }
   ],
   "source": [
    "app = Flask(__name__)\n",
    "\n",
    "logging.basicConfig(level=logging.INFO)\n",
    "# Load dataset\n",
    "train_path = \"C:/Users/rashe/ImageRecognitionProject/Groceries-Images-Recognition/ML/dataset/train\"\n",
    "image_category = os.listdir(train_path)\n",
    "\n",
    "# Apply the suitable Image Preprocessing by using ImageDataGenerator\n",
    "train_generator = ImageDataGenerator(rescale=1.0/255.0)\n",
    "train_image_generator = train_generator.flow_from_directory(\n",
    "    train_path,\n",
    "    target_size=(224, 224),\n",
    "    batch_size=32,\n",
    "    class_mode='categorical'\n",
    ")\n",
    "\n",
    "# Load the trained model\n",
    "model = tf.keras.models.load_model('C:/Users/rashe/ImageRecognitionProject/Groceries-Images-Recognition/ML/mymodel.h5')\n",
    "\n",
    "# Define the class map for label mapping\n",
    "class_map = dict([v, k] for k, v in train_image_generator.class_indices.items())\n",
    "\n",
    "@app.route('/')\n",
    "def index():\n",
    "    return 'Image Recognition API'\n",
    "\n",
    "\n",
    "@app.route('/predict', methods=['POST'])\n",
    "def predict():\n",
    "    try:\n",
    "        # Get the image from the POST request\n",
    "        img_file = request.files['image']\n",
    "        \n",
    "        # Check if the file is an image\n",
    "        if img_file.filename == '':\n",
    "            return jsonify({\"error\": \"No image provided\"}), 400\n",
    "        \n",
    "        # Load and preprocess the image\n",
    "        img = Image.open(io.BytesIO(img_file.read()))\n",
    "        img = img.resize((224, 224))  # Resize to match the model's input shape\n",
    "        img_array = img_to_array(img) / 255.0\n",
    "        img_input = img_array.reshape((1, img_array.shape[0], img_array.shape[1], img_array.shape[2]))\n",
    "\n",
    "        # Debug: Print image shape\n",
    "        print(\"Image shape:\", img_input.shape)\n",
    "\n",
    "        # Make prediction\n",
    "        predictions = model.predict(img_input)\n",
    "        print(\"Raw predictions:\", predictions)\n",
    "\n",
    "        predicted_label = int(predictions.argmax(axis=-1))\n",
    "        print(\"Predicted label index:\", predicted_label)\n",
    "        \n",
    "        # Debug: Print class map\n",
    "        print(\"Class map:\", class_map)\n",
    "\n",
    "        predicted_img = class_map[predicted_label]\n",
    "\n",
    "        # Return the result\n",
    "        return jsonify({\"predicted_product\": predicted_img})\n",
    "\n",
    "    except Exception as e:\n",
    "        logging.error(f\"Error during prediction: {e}\")\n",
    "        return jsonify({\"error\": \"Failed to predict\"}), 500\n",
    "\n",
    "if __name__ == '__main__':\n",
    "    app.run(debug=False)"
   ]
  },
  {
   "cell_type": "code",
   "execution_count": null,
   "metadata": {},
   "outputs": [],
   "source": []
  }
 ],
 "metadata": {
  "kernelspec": {
   "display_name": "Python 3",
   "language": "python",
   "name": "python3"
  },
  "language_info": {
   "codemirror_mode": {
    "name": "ipython",
    "version": 3
   },
   "file_extension": ".py",
   "mimetype": "text/x-python",
   "name": "python",
   "nbconvert_exporter": "python",
   "pygments_lexer": "ipython3",
   "version": "3.12.2"
  }
 },
 "nbformat": 4,
 "nbformat_minor": 2
}
