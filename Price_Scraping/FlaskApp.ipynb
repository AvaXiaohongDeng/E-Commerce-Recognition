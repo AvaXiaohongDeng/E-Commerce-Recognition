{
 "cells": [
  {
   "cell_type": "code",
   "execution_count": 7,
   "metadata": {},
   "outputs": [],
   "source": [
    "from flask import Flask, request, jsonify\n",
    "import os\n",
    "import serpapi\n",
    "import pandas as pd\n",
    "import tensorflow as tf\n",
    "from keras.preprocessing import image\n",
    "import numpy as np\n"
   ]
  },
  {
   "cell_type": "code",
   "execution_count": 8,
   "metadata": {},
   "outputs": [],
   "source": [
    "app = Flask(__name__)\n",
    "\n"
   ]
  },
  {
   "cell_type": "code",
   "execution_count": 10,
   "metadata": {},
   "outputs": [],
   "source": [
    "from dotenv import load_dotenv\n",
    "load_dotenv()\n",
    "api_key = os.getenv('SERPAPI_KEY')\n",
    "client = serpapi.Client(api_key=api_key)"
   ]
  },
  {
   "cell_type": "code",
   "execution_count": null,
   "metadata": {},
   "outputs": [],
   "source": [
    "model = tf.keras.models.load_model(\"path_to_your_saved_model\")\n",
    "\n",
    "\n",
    "class_map = {\n",
    "    0: \"class_0\",\n",
    "    1: \"class_1\",\n",
    "    # Add more class mappings as needed\n",
    "\n",
    "}"
   ]
  },
  {
   "cell_type": "code",
   "execution_count": 11,
   "metadata": {},
   "outputs": [],
   "source": [
    "def predictions(test_image_path):\n",
    "    test_img = image.load_img(test_image_path, target_size=(224, 224))\n",
    "    test_img_arr = image.img_to_array(test_img) / 255.0\n",
    "    test_img_input = test_img_arr.reshape((1, test_img_arr.shape[0], test_img_arr.shape[1], test_img_arr.shape[2]))\n",
    "    predicted_label = np.argmax(model.predict(test_img_input))\n",
    "    predicted_product = class_map.get(predicted_label, \"Unknown\")\n",
    "    return predicted_product"
   ]
  },
  {
   "cell_type": "code",
   "execution_count": 12,
   "metadata": {},
   "outputs": [],
   "source": [
    "@app.route('/upload', methods=['POST'])\n",
    "def upload_file():\n",
    "    if 'image' not in request.files:\n",
    "        return jsonify({\"error\": \"No image provided\"}), 400\n",
    "    \n",
    "    file = request.files['image']\n",
    "    if file.filename == '':\n",
    "        return jsonify({\"error\": \"No image selected\"}), 400\n",
    "\n",
    "    # Save the uploaded image\n",
    "    image_path = os.path.join(\"uploads\", file.filename)\n",
    "    file.save(image_path)\n",
    "\n",
    "    # Make predictions\n",
    "    predicted_product = predictions(image_path)\n",
    "\n",
    "    # Scrape price information\n",
    "    q_inf = predicted_product + \" grocery store\"\n",
    "    results = client.search({\n",
    "        'engine': 'google_shopping',\n",
    "        'q': q_inf,\n",
    "        'google_domain': 'google.ca',\n",
    "        'gl': 'ca',\n",
    "        'num': 20,\n",
    "        'start': 1\n",
    "    })\n",
    "\n",
    "    prices = [product['price'] for product in results['shopping_results']]\n",
    "\n",
    "    if prices:\n",
    "        cheapest_price = min(prices)\n",
    "    else:\n",
    "        cheapest_price = \"N/A\"\n",
    "\n",
    "    response_data = {\n",
    "        \"predicted_product\": predicted_product,\n",
    "        \"cheapest_price\": cheapest_price\n",
    "    }\n",
    "\n",
    "    return jsonify(response_data)"
   ]
  },
  {
   "cell_type": "code",
   "execution_count": 13,
   "metadata": {},
   "outputs": [
    {
     "name": "stdout",
     "output_type": "stream",
     "text": [
      " * Serving Flask app '__main__'\n",
      " * Debug mode: on\n"
     ]
    },
    {
     "name": "stderr",
     "output_type": "stream",
     "text": [
      "WARNING: This is a development server. Do not use it in a production deployment. Use a production WSGI server instead.\n",
      " * Running on http://127.0.0.1:5000\n",
      "Press CTRL+C to quit\n",
      " * Restarting with stat\n"
     ]
    },
    {
     "ename": "SystemExit",
     "evalue": "1",
     "output_type": "error",
     "traceback": [
      "An exception has occurred, use %tb to see the full traceback.\n",
      "\u001b[1;31mSystemExit\u001b[0m\u001b[1;31m:\u001b[0m 1\n"
     ]
    },
    {
     "name": "stderr",
     "output_type": "stream",
     "text": [
      "C:\\Users\\rashe\\AppData\\Roaming\\Python\\Python310\\site-packages\\IPython\\core\\interactiveshell.py:3534: UserWarning: To exit: use 'exit', 'quit', or Ctrl-D.\n",
      "  warn(\"To exit: use 'exit', 'quit', or Ctrl-D.\", stacklevel=1)\n"
     ]
    }
   ],
   "source": [
    "if __name__ == '__main__':\n",
    "    app.run(debug=True)"
   ]
  },
  {
   "cell_type": "code",
   "execution_count": null,
   "metadata": {},
   "outputs": [],
   "source": []
  }
 ],
 "metadata": {
  "kernelspec": {
   "display_name": "Python 3",
   "language": "python",
   "name": "python3"
  },
  "language_info": {
   "codemirror_mode": {
    "name": "ipython",
    "version": 3
   },
   "file_extension": ".py",
   "mimetype": "text/x-python",
   "name": "python",
   "nbconvert_exporter": "python",
   "pygments_lexer": "ipython3",
   "version": "3.10.4"
  }
 },
 "nbformat": 4,
 "nbformat_minor": 2
}
