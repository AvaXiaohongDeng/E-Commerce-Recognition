{
 "cells": [
  {
   "cell_type": "code",
   "execution_count": 13,
   "metadata": {},
   "outputs": [],
   "source": [
    "from flask import Flask, request, jsonify\n",
    "import os\n",
    "import serpapi\n",
    "import pandas as pd\n",
    "import tensorflow as tf\n",
    "from keras.preprocessing import image\n",
    "import numpy as np\n",
    "\n",
    "import logging\n",
    "from PIL import Image\n",
    "import io"
   ]
  },
  {
   "cell_type": "code",
   "execution_count": 25,
   "metadata": {},
   "outputs": [
    {
     "name": "stdout",
     "output_type": "stream",
     "text": [
      "Found 3115 images belonging to 36 classes.\n"
     ]
    },
    {
     "name": "stderr",
     "output_type": "stream",
     "text": [
      "WARNING:absl:Compiled the loaded model, but the compiled metrics have yet to be built. `model.compile_metrics` will be empty until you train or evaluate the model.\n"
     ]
    },
    {
     "name": "stdout",
     "output_type": "stream",
     "text": [
      " * Serving Flask app '__main__'\n",
      " * Debug mode: off\n"
     ]
    },
    {
     "name": "stderr",
     "output_type": "stream",
     "text": [
      "INFO:werkzeug:\u001b[31m\u001b[1mWARNING: This is a development server. Do not use it in a production deployment. Use a production WSGI server instead.\u001b[0m\n",
      " * Running on http://127.0.0.1:5000\n",
      "INFO:werkzeug:\u001b[33mPress CTRL+C to quit\u001b[0m\n",
      "INFO:werkzeug:127.0.0.1 - - [15/Apr/2024 02:45:43] \"GET / HTTP/1.1\" 200 -\n"
     ]
    },
    {
     "name": "stdout",
     "output_type": "stream",
     "text": [
      "Image shape: (1, 224, 224, 3)\n",
      "WARNING:tensorflow:5 out of the last 6 calls to <function TensorFlowTrainer.make_predict_function.<locals>.one_step_on_data_distributed at 0x000001FB7E30DCF0> triggered tf.function retracing. Tracing is expensive and the excessive number of tracings could be due to (1) creating @tf.function repeatedly in a loop, (2) passing tensors with different shapes, (3) passing Python objects instead of tensors. For (1), please define your @tf.function outside of the loop. For (2), @tf.function has reduce_retracing=True option that can avoid unnecessary retracing. For (3), please refer to https://www.tensorflow.org/guide/function#controlling_retracing and https://www.tensorflow.org/api_docs/python/tf/function for  more details.\n"
     ]
    },
    {
     "name": "stderr",
     "output_type": "stream",
     "text": [
      "WARNING:tensorflow:5 out of the last 6 calls to <function TensorFlowTrainer.make_predict_function.<locals>.one_step_on_data_distributed at 0x000001FB7E30DCF0> triggered tf.function retracing. Tracing is expensive and the excessive number of tracings could be due to (1) creating @tf.function repeatedly in a loop, (2) passing tensors with different shapes, (3) passing Python objects instead of tensors. For (1), please define your @tf.function outside of the loop. For (2), @tf.function has reduce_retracing=True option that can avoid unnecessary retracing. For (3), please refer to https://www.tensorflow.org/guide/function#controlling_retracing and https://www.tensorflow.org/api_docs/python/tf/function for  more details.\n"
     ]
    },
    {
     "name": "stdout",
     "output_type": "stream",
     "text": [
      "\u001b[1m1/1\u001b[0m \u001b[32m━━━━━━━━━━━━━━━━━━━━\u001b[0m\u001b[37m\u001b[0m \u001b[1m1s\u001b[0m 686ms/step\n"
     ]
    },
    {
     "name": "stderr",
     "output_type": "stream",
     "text": [
      "INFO:werkzeug:127.0.0.1 - - [15/Apr/2024 02:45:48] \"POST /predict HTTP/1.1\" 200 -\n"
     ]
    },
    {
     "name": "stdout",
     "output_type": "stream",
     "text": [
      "Raw predictions: [[9.8492730e-01 1.8479063e-10 8.9700916e-06 4.7654879e-08 3.0239292e-07\n",
      "  2.0127224e-08 3.1799292e-08 6.2774512e-12 1.1077172e-08 8.5408560e-09\n",
      "  3.3701291e-08 7.9225765e-07 3.6099341e-09 3.8940557e-09 9.0002157e-09\n",
      "  2.7638310e-07 8.6515655e-08 4.9440119e-09 1.3748647e-06 3.2955990e-07\n",
      "  1.0851540e-04 3.1491797e-06 3.2693848e-07 9.6849377e-05 2.9650164e-11\n",
      "  4.1913681e-09 1.4667867e-02 2.0947542e-07 7.0310336e-05 1.0321035e-09\n",
      "  1.4287204e-09 4.3175432e-09 1.9400037e-08 2.5251877e-05 7.7740326e-05\n",
      "  1.0044303e-05]]\n",
      "Predicted label index: 0\n",
      "Class map: {0: 'apple', 1: 'banana', 2: 'beetroot', 3: 'bell pepper', 4: 'cabbage', 5: 'capsicum', 6: 'carrot', 7: 'cauliflower', 8: 'chilli pepper', 9: 'corn', 10: 'cucumber', 11: 'eggplant', 12: 'garlic', 13: 'ginger', 14: 'grapes', 15: 'jalepeno', 16: 'kiwi', 17: 'lemon', 18: 'lettuce', 19: 'mango', 20: 'onion', 21: 'orange', 22: 'paprika', 23: 'pear', 24: 'peas', 25: 'pineapple', 26: 'pomegranate', 27: 'potato', 28: 'raddish', 29: 'soy beans', 30: 'spinach', 31: 'sweetcorn', 32: 'sweetpotato', 33: 'tomato', 34: 'turnip', 35: 'watermelon'}\n",
      "Image shape: (1, 224, 224, 3)\n",
      "\u001b[1m1/1\u001b[0m \u001b[32m━━━━━━━━━━━━━━━━━━━━\u001b[0m\u001b[37m\u001b[0m \u001b[1m0s\u001b[0m 37ms/step\n"
     ]
    },
    {
     "name": "stderr",
     "output_type": "stream",
     "text": [
      "INFO:werkzeug:127.0.0.1 - - [15/Apr/2024 02:46:28] \"POST /predict HTTP/1.1\" 200 -\n"
     ]
    },
    {
     "name": "stdout",
     "output_type": "stream",
     "text": [
      "Raw predictions: [[9.95722055e-01 2.20227765e-08 2.25473627e-07 4.47834100e-06\n",
      "  5.05728082e-08 1.67722610e-05 6.42066595e-07 1.17764007e-10\n",
      "  1.17139400e-07 1.59036091e-08 3.71736633e-08 7.33637280e-05\n",
      "  6.69572731e-10 1.39673356e-10 5.31057731e-09 4.60568044e-05\n",
      "  2.12793012e-07 1.02425616e-07 1.21585663e-05 3.10372712e-07\n",
      "  2.73124315e-05 4.04245185e-07 1.39529384e-05 1.13390030e-04\n",
      "  1.02468015e-07 3.84902599e-09 8.68248389e-06 8.47421067e-09\n",
      "  1.75747991e-05 4.70692356e-08 1.54227759e-08 7.52083906e-08\n",
      "  6.11076967e-09 3.94077692e-03 3.79283790e-07 5.61549882e-07]]\n",
      "Predicted label index: 0\n",
      "Class map: {0: 'apple', 1: 'banana', 2: 'beetroot', 3: 'bell pepper', 4: 'cabbage', 5: 'capsicum', 6: 'carrot', 7: 'cauliflower', 8: 'chilli pepper', 9: 'corn', 10: 'cucumber', 11: 'eggplant', 12: 'garlic', 13: 'ginger', 14: 'grapes', 15: 'jalepeno', 16: 'kiwi', 17: 'lemon', 18: 'lettuce', 19: 'mango', 20: 'onion', 21: 'orange', 22: 'paprika', 23: 'pear', 24: 'peas', 25: 'pineapple', 26: 'pomegranate', 27: 'potato', 28: 'raddish', 29: 'soy beans', 30: 'spinach', 31: 'sweetcorn', 32: 'sweetpotato', 33: 'tomato', 34: 'turnip', 35: 'watermelon'}\n",
      "Image shape: (1, 224, 224, 3)\n",
      "\u001b[1m1/1\u001b[0m \u001b[32m━━━━━━━━━━━━━━━━━━━━\u001b[0m\u001b[37m\u001b[0m \u001b[1m0s\u001b[0m 36ms/step\n"
     ]
    },
    {
     "name": "stderr",
     "output_type": "stream",
     "text": [
      "INFO:werkzeug:127.0.0.1 - - [15/Apr/2024 02:46:59] \"POST /predict HTTP/1.1\" 200 -\n"
     ]
    },
    {
     "name": "stdout",
     "output_type": "stream",
     "text": [
      "Raw predictions: [[3.1546722e-03 1.0087010e-06 8.7882954e-01 4.8693331e-05 2.4598910e-08\n",
      "  1.2764890e-03 7.7664270e-05 1.8789196e-07 1.3276942e-04 6.3770568e-07\n",
      "  5.6502876e-07 2.9245156e-03 2.5193478e-06 2.2593399e-07 2.5216339e-06\n",
      "  2.7361777e-05 5.5833522e-07 4.9199422e-09 6.3438830e-07 9.2461261e-05\n",
      "  2.1373476e-03 2.0205252e-05 2.1297471e-03 8.9483353e-04 1.8857303e-07\n",
      "  3.1357854e-06 2.8095173e-04 9.3185548e-07 6.3070878e-02 2.5681090e-06\n",
      "  1.9515930e-06 1.5260702e-07 1.4901351e-06 4.3864708e-02 1.0165193e-03\n",
      "  1.2838543e-06]]\n",
      "Predicted label index: 2\n",
      "Class map: {0: 'apple', 1: 'banana', 2: 'beetroot', 3: 'bell pepper', 4: 'cabbage', 5: 'capsicum', 6: 'carrot', 7: 'cauliflower', 8: 'chilli pepper', 9: 'corn', 10: 'cucumber', 11: 'eggplant', 12: 'garlic', 13: 'ginger', 14: 'grapes', 15: 'jalepeno', 16: 'kiwi', 17: 'lemon', 18: 'lettuce', 19: 'mango', 20: 'onion', 21: 'orange', 22: 'paprika', 23: 'pear', 24: 'peas', 25: 'pineapple', 26: 'pomegranate', 27: 'potato', 28: 'raddish', 29: 'soy beans', 30: 'spinach', 31: 'sweetcorn', 32: 'sweetpotato', 33: 'tomato', 34: 'turnip', 35: 'watermelon'}\n"
     ]
    }
   ],
   "source": [
    "app = Flask(__name__)\n",
    "\n",
    "logging.basicConfig(level=logging.INFO)\n",
    "# Load dataset\n",
    "train_path = \"C:/Users/rashe/ImageRecognitionProject/Groceries-Images-Recognition/ML/dataset/train\"\n",
    "image_category = os.listdir(train_path)\n",
    "\n",
    "# Apply the suitable Image Preprocessing by using ImageDataGenerator\n",
    "train_generator = ImageDataGenerator(rescale=1.0/255.0)\n",
    "train_image_generator = train_generator.flow_from_directory(\n",
    "    train_path,\n",
    "    target_size=(224, 224),\n",
    "    batch_size=32,\n",
    "    class_mode='categorical'\n",
    ")\n",
    "\n",
    "# Load the trained model\n",
    "model = tf.keras.models.load_model('C:/Users/rashe/ImageRecognitionProject/Groceries-Images-Recognition/ML/mymodel.h5')\n",
    "\n",
    "# Define the class map for label mapping\n",
    "class_map = dict([v, k] for k, v in train_image_generator.class_indices.items())\n",
    "\n",
    "@app.route('/')\n",
    "def index():\n",
    "    return 'Image Recognition API'\n",
    "\n",
    "\n",
    "@app.route('/predict', methods=['POST'])\n",
    "def predict():\n",
    "    try:\n",
    "        # Get the image from the POST request\n",
    "        img_file = request.files['image']\n",
    "        \n",
    "        # Check if the file is an image\n",
    "        if img_file.filename == '':\n",
    "            return jsonify({\"error\": \"No image provided\"}), 400\n",
    "        \n",
    "        # Load and preprocess the image\n",
    "        img = Image.open(io.BytesIO(img_file.read()))\n",
    "        img = img.resize((224, 224))  # Resize to match the model's input shape\n",
    "        img_array = img_to_array(img) / 255.0\n",
    "        img_input = img_array.reshape((1, img_array.shape[0], img_array.shape[1], img_array.shape[2]))\n",
    "\n",
    "        # Debug: Print image shape\n",
    "        print(\"Image shape:\", img_input.shape)\n",
    "\n",
    "        # Make prediction\n",
    "        predictions = model.predict(img_input)\n",
    "        print(\"Raw predictions:\", predictions)\n",
    "\n",
    "        predicted_label = int(predictions.argmax(axis=-1))\n",
    "        print(\"Predicted label index:\", predicted_label)\n",
    "        \n",
    "        # Debug: Print class map\n",
    "        print(\"Class map:\", class_map)\n",
    "\n",
    "        predicted_img = class_map[predicted_label]\n",
    "\n",
    "        # Return the result\n",
    "        return jsonify({\"predicted_product\": predicted_img})\n",
    "\n",
    "    except Exception as e:\n",
    "        logging.error(f\"Error during prediction: {e}\")\n",
    "        return jsonify({\"error\": \"Failed to predict\"}), 500\n",
    "\n",
    "if __name__ == '__main__':\n",
    "    app.run(debug=False)"
   ]
  },
  {
   "cell_type": "code",
   "execution_count": null,
   "metadata": {},
   "outputs": [],
   "source": []
  }
 ],
 "metadata": {
  "kernelspec": {
   "display_name": "Python 3",
   "language": "python",
   "name": "python3"
  },
  "language_info": {
   "codemirror_mode": {
    "name": "ipython",
    "version": 3
   },
   "file_extension": ".py",
   "mimetype": "text/x-python",
   "name": "python",
   "nbconvert_exporter": "python",
   "pygments_lexer": "ipython3",
   "version": "3.10.4"
  }
 },
 "nbformat": 4,
 "nbformat_minor": 2
}
