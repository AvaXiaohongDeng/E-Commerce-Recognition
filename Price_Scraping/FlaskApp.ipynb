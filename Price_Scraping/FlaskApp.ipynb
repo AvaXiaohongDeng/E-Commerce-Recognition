{
 "cells": [
  {
   "cell_type": "code",
   "execution_count": 29,
   "metadata": {},
   "outputs": [],
   "source": [
    "from flask import Flask, request, jsonify\n",
    "import os\n",
    "import serpapi\n",
    "import pandas as pd\n",
    "import tensorflow as tf\n",
    "from keras.preprocessing import image\n",
    "import numpy as np\n"
   ]
  },
  {
   "cell_type": "code",
   "execution_count": 41,
   "metadata": {},
   "outputs": [
    {
     "name": "stdout",
     "output_type": "stream",
     "text": [
      "Found 3115 images belonging to 36 classes.\n"
     ]
    },
    {
     "name": "stderr",
     "output_type": "stream",
     "text": [
      "WARNING:absl:Compiled the loaded model, but the compiled metrics have yet to be built. `model.compile_metrics` will be empty until you train or evaluate the model.\n"
     ]
    },
    {
     "name": "stdout",
     "output_type": "stream",
     "text": [
      " * Serving Flask app '__main__'\n",
      " * Debug mode: off\n"
     ]
    },
    {
     "name": "stderr",
     "output_type": "stream",
     "text": [
      "WARNING: This is a development server. Do not use it in a production deployment. Use a production WSGI server instead.\n",
      " * Running on http://127.0.0.1:5000\n",
      "INFO:werkzeug:\u001b[31m\u001b[1mWARNING: This is a development server. Do not use it in a production deployment. Use a production WSGI server instead.\u001b[0m\n",
      " * Running on http://127.0.0.1:5000\n",
      "Press CTRL+C to quit\n",
      "INFO:werkzeug:\u001b[33mPress CTRL+C to quit\u001b[0m\n",
      "127.0.0.1 - - [15/Apr/2024 02:05:36] \"GET / HTTP/1.1\" 200 -\n",
      "INFO:werkzeug:127.0.0.1 - - [15/Apr/2024 02:05:36] \"GET / HTTP/1.1\" 200 -\n",
      "127.0.0.1 - - [15/Apr/2024 02:05:36] \"GET /favicon.ico HTTP/1.1\" 404 -\n",
      "INFO:werkzeug:127.0.0.1 - - [15/Apr/2024 02:05:36] \"\u001b[33mGET /favicon.ico HTTP/1.1\u001b[0m\" 404 -\n",
      "127.0.0.1 - - [15/Apr/2024 02:05:57] \"GET / HTTP/1.1\" 200 -\n",
      "INFO:werkzeug:127.0.0.1 - - [15/Apr/2024 02:05:57] \"GET / HTTP/1.1\" 200 -\n"
     ]
    }
   ],
   "source": [
    "import json\n",
    "from flask import Flask\n",
    "\n",
    "import tensorflow as tf\n",
    "from tensorflow.keras.preprocessing.image import ImageDataGenerator, img_to_array, load_img\n",
    "import os\n",
    "import logging\n",
    "\n",
    "\n",
    "app = Flask(__name__)\n",
    "\n",
    "logging.basicConfig(level=logging.INFO)\n",
    "# Load dataset\n",
    "train_path = \"C:/Users/rashe/ImageRecognitionProject/Groceries-Images-Recognition/ML/dataset/train\"\n",
    "image_category = os.listdir(train_path)\n",
    "\n",
    "# Apply the suitable Image Preprocessing by using ImageDataGenerator\n",
    "train_generator = ImageDataGenerator(rescale=1.0/255.0)\n",
    "train_image_generator = train_generator.flow_from_directory(\n",
    "    train_path,\n",
    "    target_size=(224, 224),\n",
    "    batch_size=32,\n",
    "    class_mode='categorical'\n",
    ")\n",
    "\n",
    "\n",
    "# Load the trained model\n",
    "model = tf.keras.models.load_model('C:/Users/rashe/ImageRecognitionProject/Groceries-Images-Recognition/ML/mymodel.h5')\n",
    "\n",
    "# Define the class map for label mapping\n",
    "class_map = dict([v, k] for k, v in train_image_generator.class_indices.items())\n",
    "\n",
    "@app.route('/')\n",
    "def index():\n",
    "    return 'Image Recognition API'\n",
    "\n",
    "@app.route('/predict', methods=['POST'])\n",
    "def predict():\n",
    "    try:\n",
    "        # Get the image from the POST request\n",
    "        img_file = request.files['image']\n",
    "        \n",
    "        # Load and preprocess the image\n",
    "        img = load_img(img_file, target_size=(224, 224))\n",
    "        img_array = img_to_array(img) / 255.0\n",
    "        img_input = img_array.reshape((1, img_array.shape[0], img_array.shape[1], img_array.shape[2]))\n",
    "\n",
    "        # Make prediction\n",
    "        predicted_label = int(model.predict(img_input).argmax(axis=-1))\n",
    "        predicted_img = class_map[predicted_label]\n",
    "\n",
    "        # Return the result\n",
    "        return jsonify({\"predicted_product\": predicted_img})\n",
    "\n",
    "    except Exception as e:\n",
    "        logging.error(f\"Error during prediction: {e}\")\n",
    "        return jsonify({\"error\": \"Failed to predict\"}), 500\n",
    "\n",
    "if __name__ == '__main__':\n",
    "    app.run(debug=False)"
   ]
  },
  {
   "cell_type": "code",
   "execution_count": null,
   "metadata": {},
   "outputs": [],
   "source": []
  }
 ],
 "metadata": {
  "kernelspec": {
   "display_name": "Python 3",
   "language": "python",
   "name": "python3"
  },
  "language_info": {
   "codemirror_mode": {
    "name": "ipython",
    "version": 3
   },
   "file_extension": ".py",
   "mimetype": "text/x-python",
   "name": "python",
   "nbconvert_exporter": "python",
   "pygments_lexer": "ipython3",
   "version": "3.10.4"
  }
 },
 "nbformat": 4,
 "nbformat_minor": 2
}
